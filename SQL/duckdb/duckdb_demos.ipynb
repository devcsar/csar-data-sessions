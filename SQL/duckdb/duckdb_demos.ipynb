{
 "cells": [
  {
   "cell_type": "code",
   "execution_count": 2,
   "id": "973c5500",
   "metadata": {},
   "outputs": [],
   "source": [
    "import duckdb"
   ]
  },
  {
   "cell_type": "markdown",
   "id": "160b70fe",
   "metadata": {},
   "source": [
    "### Crear base de datos persistente\n"
   ]
  },
  {
   "cell_type": "code",
   "execution_count": 3,
   "id": "585bf249",
   "metadata": {},
   "outputs": [],
   "source": [
    "\n",
    "db = duckdb.connect(\"csar_data.db\")\n",
    "\n",
    "#inmem = duckdb.connect()\n",
    "#conexion a memoria"
   ]
  },
  {
   "cell_type": "markdown",
   "id": "60435e7e",
   "metadata": {},
   "source": [
    "## Carga de datos\n"
   ]
  },
  {
   "cell_type": "code",
   "execution_count": null,
   "id": "53cdd6cb",
   "metadata": {},
   "outputs": [
    {
     "data": {
      "text/plain": [
       "<_duckdb.DuckDBPyConnection at 0x7d723927b070>"
      ]
     },
     "execution_count": 9,
     "metadata": {},
     "output_type": "execute_result"
    }
   ],
   "source": [
    "# create a new table from the contents of a DataFrame\n",
    "db.execute(\"CREATE TABLE CATEGORY AS SELECT * FROM '../../files/CATEGORY.csv'\")\n",
    "db.execute(\"CREATE TABLE PRODUCT_CATEGORY AS SELECT * FROM '../../files/PRODUCT_CATEGORY.csv'\")\n",
    "db.execute(\"CREATE TABLE PRODUCT AS SELECT * FROM '../../files/PRODUCT.csv'\")"
   ]
  },
  {
   "cell_type": "markdown",
   "id": "e09b4dc0",
   "metadata": {},
   "source": [
    "## Pruebas de consulta"
   ]
  },
  {
   "cell_type": "code",
   "execution_count": null,
   "id": "1475e86f",
   "metadata": {},
   "outputs": [
    {
     "data": {
      "text/plain": [
       "┌─────────────┬───────────────┐\n",
       "│ category_id │ category_name │\n",
       "│    int64    │    varchar    │\n",
       "├─────────────┼───────────────┤\n",
       "│           2 │ Panadería     │\n",
       "└─────────────┴───────────────┘"
      ]
     },
     "execution_count": 26,
     "metadata": {},
     "output_type": "execute_result"
    }
   ],
   "source": [
    "# select * from CATEGORY\n",
    "db.sql(\"select * from CATEGORY where category_name LIKE 'Pa%' \")"
   ]
  },
  {
   "cell_type": "markdown",
   "id": "b17d9c73",
   "metadata": {},
   "source": [
    "## Common Table Expression  (CTE)"
   ]
  },
  {
   "cell_type": "code",
   "execution_count": 29,
   "id": "567247fe",
   "metadata": {},
   "outputs": [
    {
     "data": {
      "text/plain": [
       "┌────────────┬─────────────┬───────────────┬───────────────┐\n",
       "│ product_id │ category_id │ category_id_1 │ category_name │\n",
       "│   int64    │    int64    │     int64     │    varchar    │\n",
       "├────────────┼─────────────┼───────────────┼───────────────┤\n",
       "│          1 │           6 │             6 │ Verduras      │\n",
       "│          2 │           6 │             6 │ Verduras      │\n",
       "│          3 │           5 │             5 │ Frutas        │\n",
       "│          4 │           7 │             7 │ Cereales      │\n",
       "│          5 │           8 │             8 │ Enlatados     │\n",
       "│          6 │           6 │             6 │ Verduras      │\n",
       "│          7 │           8 │             8 │ Enlatados     │\n",
       "│          8 │           4 │             4 │ Carnes        │\n",
       "│          9 │           9 │             9 │ Limpieza      │\n",
       "│         10 │           5 │             5 │ Frutas        │\n",
       "│          · │           · │             · │   ·           │\n",
       "│          · │           · │             · │   ·           │\n",
       "│          · │           · │             · │   ·           │\n",
       "│         91 │           9 │             9 │ Limpieza      │\n",
       "│         92 │           8 │             8 │ Enlatados     │\n",
       "│         93 │           4 │             4 │ Carnes        │\n",
       "│         94 │          10 │            10 │ Dulces        │\n",
       "│         95 │           5 │             5 │ Frutas        │\n",
       "│         96 │          10 │            10 │ Dulces        │\n",
       "│         97 │           3 │             3 │ Bebidas       │\n",
       "│         98 │           6 │             6 │ Verduras      │\n",
       "│         99 │           8 │             8 │ Enlatados     │\n",
       "│        100 │           8 │             8 │ Enlatados     │\n",
       "├────────────┴─────────────┴───────────────┴───────────────┤\n",
       "│ 100 rows (20 shown)                            4 columns │\n",
       "└──────────────────────────────────────────────────────────┘"
      ]
     },
     "execution_count": 29,
     "metadata": {},
     "output_type": "execute_result"
    }
   ],
   "source": [
    "db.sql(\n",
    "  '''\n",
    "    WITH PRODUCT_CATEGORY_NAMES AS\n",
    "    ( SELECT *\n",
    "    FROM PRODUCT_CATEGORY PC\n",
    "    LEFT JOIN CATEGORY C\n",
    "    ON PC.category_id == C.category_id\n",
    "    )\n",
    "    SELECT * FROM PRODUCT_CATEGORY_NAMES\n",
    "\n",
    "  '''\n",
    ")"
   ]
  },
  {
   "cell_type": "markdown",
   "id": "10b8a6e5",
   "metadata": {},
   "source": [
    "## JOINS"
   ]
  },
  {
   "cell_type": "code",
   "execution_count": 35,
   "id": "8a88413e",
   "metadata": {},
   "outputs": [
    {
     "data": {
      "text/plain": [
       "┌────────────┬─────────────┬───────────────┐\n",
       "│ product_id │ category_id │ category_name │\n",
       "│   int64    │    int64    │    varchar    │\n",
       "├────────────┼─────────────┼───────────────┤\n",
       "│          1 │           6 │ Verduras      │\n",
       "│          2 │           6 │ Verduras      │\n",
       "│          3 │           5 │ Frutas        │\n",
       "│          4 │           7 │ Cereales      │\n",
       "│          5 │           8 │ Enlatados     │\n",
       "│          6 │           6 │ Verduras      │\n",
       "│          7 │           8 │ Enlatados     │\n",
       "│          8 │           4 │ Carnes        │\n",
       "│          9 │           9 │ Limpieza      │\n",
       "│         10 │           5 │ Frutas        │\n",
       "│          · │           · │   ·           │\n",
       "│          · │           · │   ·           │\n",
       "│          · │           · │   ·           │\n",
       "│         91 │           9 │ Limpieza      │\n",
       "│         92 │           8 │ Enlatados     │\n",
       "│         93 │           4 │ Carnes        │\n",
       "│         94 │          10 │ Dulces        │\n",
       "│         95 │           5 │ Frutas        │\n",
       "│         96 │          10 │ Dulces        │\n",
       "│         97 │           3 │ Bebidas       │\n",
       "│         98 │           6 │ Verduras      │\n",
       "│         99 │           8 │ Enlatados     │\n",
       "│        100 │           8 │ Enlatados     │\n",
       "├────────────┴─────────────┴───────────────┤\n",
       "│ 100 rows (20 shown)            3 columns │\n",
       "└──────────────────────────────────────────┘"
      ]
     },
     "execution_count": 35,
     "metadata": {},
     "output_type": "execute_result"
    }
   ],
   "source": [
    "db.sql(\n",
    "  '''\n",
    "    SELECT PC.*,C.category_name\n",
    "    FROM PRODUCT_CATEGORY PC\n",
    "    JOIN CATEGORY C\n",
    "    ON PC.category_id == C.category_id\n",
    "\n",
    "  '''\n",
    ")"
   ]
  },
  {
   "cell_type": "code",
   "execution_count": null,
   "id": "16b528ed",
   "metadata": {},
   "outputs": [
    {
     "data": {
      "text/plain": [
       "┌────────────────────┐\n",
       "│ avg(category_id_1) │\n",
       "│       double       │\n",
       "├────────────────────┤\n",
       "│               6.34 │\n",
       "└────────────────────┘"
      ]
     },
     "execution_count": 32,
     "metadata": {},
     "output_type": "execute_result"
    }
   ],
   "source": [
    "#data.avg('category_id_1')"
   ]
  },
  {
   "cell_type": "markdown",
   "id": "62a72f2d",
   "metadata": {},
   "source": [
    "## Funciones Ventana (windows functions)"
   ]
  },
  {
   "cell_type": "code",
   "execution_count": 38,
   "id": "4b971e63",
   "metadata": {},
   "outputs": [
    {
     "data": {
      "text/plain": [
       "┌────────────┬─────────────┬───────────────┐\n",
       "│ product_id │ category_id │ category_name │\n",
       "│   int64    │    int64    │    varchar    │\n",
       "├────────────┼─────────────┼───────────────┤\n",
       "│          1 │           6 │ Verduras      │\n",
       "│          2 │           6 │ Verduras      │\n",
       "│          3 │           5 │ Frutas        │\n",
       "│          4 │           7 │ Cereales      │\n",
       "│          5 │           8 │ Enlatados     │\n",
       "│          6 │           6 │ Verduras      │\n",
       "│          7 │           8 │ Enlatados     │\n",
       "│          8 │           4 │ Carnes        │\n",
       "│          9 │           9 │ Limpieza      │\n",
       "│         10 │           5 │ Frutas        │\n",
       "│          · │           · │   ·           │\n",
       "│          · │           · │   ·           │\n",
       "│          · │           · │   ·           │\n",
       "│         91 │           9 │ Limpieza      │\n",
       "│         92 │           8 │ Enlatados     │\n",
       "│         93 │           4 │ Carnes        │\n",
       "│         94 │          10 │ Dulces        │\n",
       "│         95 │           5 │ Frutas        │\n",
       "│         96 │          10 │ Dulces        │\n",
       "│         97 │           3 │ Bebidas       │\n",
       "│         98 │           6 │ Verduras      │\n",
       "│         99 │           8 │ Enlatados     │\n",
       "│        100 │           8 │ Enlatados     │\n",
       "├────────────┴─────────────┴───────────────┤\n",
       "│ 100 rows (20 shown)            3 columns │\n",
       "└──────────────────────────────────────────┘"
      ]
     },
     "execution_count": 38,
     "metadata": {},
     "output_type": "execute_result"
    }
   ],
   "source": [
    "db.sql(\n",
    "  '''\n",
    "    SELECT PC.*,C.category_name\n",
    "    FROM PRODUCT_CATEGORY PC\n",
    "    JOIN CATEGORY C\n",
    "    ON PC.category_id == C.category_id\n",
    "\n",
    "  '''\n",
    ")"
   ]
  },
  {
   "cell_type": "markdown",
   "id": "7a9d7f9e",
   "metadata": {},
   "source": [
    "## Descripcion de la consulta\n",
    "\n",
    "Calcula cual es el segundo producto mas caro por categoria"
   ]
  },
  {
   "cell_type": "code",
   "execution_count": 45,
   "id": "f263f850",
   "metadata": {},
   "outputs": [
    {
     "data": {
      "text/plain": [
       "┌────────────┬──────────────┬─────────┬────────┬─────────┬─────────────┬───────────────┐\n",
       "│ product_id │ product_name │  brand  │ price  │  unit   │ category_id │ category_name │\n",
       "│   int64    │   varchar    │ varchar │ double │ varchar │    int64    │    varchar    │\n",
       "├────────────┼──────────────┼─────────┼────────┼─────────┼─────────────┼───────────────┤\n",
       "│          1 │ Arroz        │ MarcaA  │  54.62 │ paquete │           6 │ Verduras      │\n",
       "│          2 │ Huevos       │ MarcaD  │  36.87 │ ml      │           6 │ Verduras      │\n",
       "│          3 │ Manzana      │ MarcaC  │  86.13 │ ml      │           5 │ Frutas        │\n",
       "│          4 │ Ajo          │ MarcaD  │   96.4 │ ml      │           7 │ Cereales      │\n",
       "│          5 │ Pescado      │ MarcaC  │  76.84 │ ml      │           8 │ Enlatados     │\n",
       "│          6 │ Refresco     │ MarcaB  │  93.83 │ paquete │           6 │ Verduras      │\n",
       "│          7 │ Harina       │ MarcaB  │  43.21 │ l       │           8 │ Enlatados     │\n",
       "│          8 │ Uva          │ MarcaE  │  35.65 │ ml      │           4 │ Carnes        │\n",
       "│          9 │ Café         │ MarcaD  │  66.13 │ kg      │           9 │ Limpieza      │\n",
       "│         10 │ Harina       │ MarcaB  │  16.12 │ kg      │           5 │ Frutas        │\n",
       "│          · │  ·           │   ·     │    ·   │ ·       │           · │   ·           │\n",
       "│          · │  ·           │   ·     │    ·   │ ·       │           · │   ·           │\n",
       "│          · │  ·           │   ·     │    ·   │ ·       │           · │   ·           │\n",
       "│         91 │ Papa         │ MarcaD  │  50.76 │ ml      │           9 │ Limpieza      │\n",
       "│         92 │ Queso        │ MarcaB  │  22.38 │ l       │           8 │ Enlatados     │\n",
       "│         93 │ Arroz        │ MarcaD  │  23.16 │ unidad  │           4 │ Carnes        │\n",
       "│         94 │ Manzana      │ MarcaD  │  35.48 │ kg      │          10 │ Dulces        │\n",
       "│         95 │ Cereal       │ MarcaE  │  10.68 │ g       │           5 │ Frutas        │\n",
       "│         96 │ Aceite       │ MarcaA  │  86.48 │ unidad  │          10 │ Dulces        │\n",
       "│         97 │ Cebolla      │ MarcaD  │  56.42 │ g       │           3 │ Bebidas       │\n",
       "│         98 │ Yogurt       │ MarcaD  │  61.47 │ paquete │           6 │ Verduras      │\n",
       "│         99 │ Aceite       │ MarcaD  │  44.51 │ paquete │           8 │ Enlatados     │\n",
       "│        100 │ Huevos       │ MarcaC  │  56.06 │ l       │           8 │ Enlatados     │\n",
       "├────────────┴──────────────┴─────────┴────────┴─────────┴─────────────┴───────────────┤\n",
       "│ 100 rows (20 shown)                                                        7 columns │\n",
       "└──────────────────────────────────────────────────────────────────────────────────────┘"
      ]
     },
     "execution_count": 45,
     "metadata": {},
     "output_type": "execute_result"
    }
   ],
   "source": [
    "db.sql(\n",
    "  '''\n",
    "\n",
    "    WITH PRODUCT_CATEGORY_NAMES AS\n",
    "    ( SELECT *\n",
    "    FROM PRODUCT_CATEGORY PC\n",
    "    LEFT JOIN CATEGORY C\n",
    "    ON PC.category_id == C.category_id\n",
    "    )\n",
    "\n",
    "    Select p.*,PCN.category_id, PCN.category_name\n",
    "    from PRODUCT p\n",
    "    JOIN PRODUCT_CATEGORY_NAMES PCN ON p.product_id == PCN.product_id\n",
    "\n",
    "  '''\n",
    ")"
   ]
  },
  {
   "cell_type": "code",
   "execution_count": 82,
   "id": "e8eaffb8",
   "metadata": {},
   "outputs": [
    {
     "data": {
      "text/plain": [
       "┌────────────┬──────────────┬────────┬────────────┐\n",
       "│ product_id │ product_name │ price  │ price_rank │\n",
       "│   int64    │   varchar    │ double │   int64    │\n",
       "├────────────┼──────────────┼────────┼────────────┤\n",
       "│         24 │ Yogurt       │   3.39 │          1 │\n",
       "│         52 │ Azúcar       │   3.41 │          2 │\n",
       "│         67 │ Leche        │   5.45 │          3 │\n",
       "│         29 │ Aceite       │   9.11 │          4 │\n",
       "│         19 │ Arroz        │  10.27 │          5 │\n",
       "│         95 │ Cereal       │  10.68 │          6 │\n",
       "│         47 │ Tomate       │  12.75 │          7 │\n",
       "│         49 │ Pan          │  15.38 │          8 │\n",
       "│         10 │ Harina       │  16.12 │          9 │\n",
       "│         14 │ Banana       │  17.31 │         10 │\n",
       "│          · │   ·          │    ·   │          · │\n",
       "│          · │   ·          │    ·   │          · │\n",
       "│          · │   ·          │    ·   │          · │\n",
       "│          6 │ Refresco     │  93.83 │         91 │\n",
       "│         53 │ Manzana      │  94.66 │         92 │\n",
       "│         21 │ Carne        │   95.2 │         93 │\n",
       "│         72 │ Leche        │   95.3 │         94 │\n",
       "│         74 │ Sal          │  95.33 │         95 │\n",
       "│          4 │ Ajo          │   96.4 │         96 │\n",
       "│         41 │ Té           │  96.66 │         97 │\n",
       "│         16 │ Manzana      │  96.86 │         98 │\n",
       "│         58 │ Harina       │  98.37 │         99 │\n",
       "│         64 │ Ajo          │  98.87 │        100 │\n",
       "├────────────┴──────────────┴────────┴────────────┤\n",
       "│ 100 rows (20 shown)                   4 columns │\n",
       "└─────────────────────────────────────────────────┘"
      ]
     },
     "execution_count": 82,
     "metadata": {},
     "output_type": "execute_result"
    }
   ],
   "source": [
    "db.sql(\n",
    "  '''\n",
    "  select p.product_id,p.product_name,p.price,\n",
    "  RANK() OVER(\n",
    "    ORDER BY p.price ASC\n",
    "  ) AS price_rank\n",
    "  from PRODUCT p\n",
    "\n",
    "  '''\n",
    ")"
   ]
  },
  {
   "cell_type": "code",
   "execution_count": 88,
   "id": "fa88bb32",
   "metadata": {},
   "outputs": [
    {
     "data": {
      "text/plain": [
       "┌────────────┬──────────────┬─────────┬────────┬─────────┬─────────────┬───────────────┬────────────┐\n",
       "│ product_id │ product_name │  brand  │ price  │  unit   │ category_id │ category_name │ price_rank │\n",
       "│   int64    │   varchar    │ varchar │ double │ varchar │    int64    │    varchar    │   int64    │\n",
       "├────────────┼──────────────┼─────────┼────────┼─────────┼─────────────┼───────────────┼────────────┤\n",
       "│         14 │ Banana       │ MarcaB  │  17.31 │ ml      │           7 │ Cereales      │          1 │\n",
       "│         31 │ Uva          │ MarcaC  │  22.56 │ unidad  │           7 │ Cereales      │          2 │\n",
       "│         83 │ Uva          │ MarcaA  │  40.41 │ unidad  │           7 │ Cereales      │          3 │\n",
       "│         17 │ Frijoles     │ MarcaD  │  60.03 │ unidad  │           7 │ Cereales      │          4 │\n",
       "│         50 │ Jugo         │ MarcaB  │  68.91 │ unidad  │           7 │ Cereales      │          5 │\n",
       "│         54 │ Mantequilla  │ MarcaA  │  69.38 │ ml      │           7 │ Cereales      │          6 │\n",
       "│         34 │ Huevos       │ MarcaA  │  69.71 │ unidad  │           7 │ Cereales      │          7 │\n",
       "│         40 │ Yogurt       │ MarcaB  │  78.16 │ g       │           7 │ Cereales      │          8 │\n",
       "│         53 │ Manzana      │ MarcaE  │  94.66 │ g       │           7 │ Cereales      │          9 │\n",
       "│          4 │ Ajo          │ MarcaD  │   96.4 │ ml      │           7 │ Cereales      │         10 │\n",
       "│          · │ ·            │   ·     │     ·  │ ·       │           · │   ·           │          · │\n",
       "│          · │ ·            │   ·     │     ·  │ ·       │           · │   ·           │          · │\n",
       "│          · │ ·            │   ·     │     ·  │ ·       │           · │   ·           │          · │\n",
       "│         23 │ Té           │ MarcaD  │  35.39 │ ml      │           4 │ Carnes        │          2 │\n",
       "│          8 │ Uva          │ MarcaE  │  35.65 │ ml      │           4 │ Carnes        │          3 │\n",
       "│         22 │ Café         │ MarcaA  │  48.68 │ kg      │           4 │ Carnes        │          4 │\n",
       "│         30 │ Carne        │ MarcaC  │   49.1 │ ml      │           4 │ Carnes        │          5 │\n",
       "│         80 │ Agua         │ MarcaD  │  50.58 │ ml      │           4 │ Carnes        │          6 │\n",
       "│         75 │ Agua         │ MarcaA  │  59.95 │ g       │           4 │ Carnes        │          7 │\n",
       "│         82 │ Zanahoria    │ MarcaB  │  64.84 │ g       │           4 │ Carnes        │          8 │\n",
       "│         48 │ Harina       │ MarcaB  │  75.98 │ unidad  │           4 │ Carnes        │          9 │\n",
       "│         73 │ Pollo        │ MarcaA  │  89.28 │ kg      │           4 │ Carnes        │         10 │\n",
       "│         74 │ Sal          │ MarcaE  │  95.33 │ unidad  │           4 │ Carnes        │         11 │\n",
       "├────────────┴──────────────┴─────────┴────────┴─────────┴─────────────┴───────────────┴────────────┤\n",
       "│ 100 rows (20 shown)                                                                     8 columns │\n",
       "└───────────────────────────────────────────────────────────────────────────────────────────────────┘"
      ]
     },
     "execution_count": 88,
     "metadata": {},
     "output_type": "execute_result"
    }
   ],
   "source": [
    "db.sql(\n",
    "  '''\n",
    "    WITH PRODUCT_CATEGORY_NAMES AS\n",
    "    ( SELECT *\n",
    "    FROM PRODUCT_CATEGORY PC\n",
    "    LEFT JOIN CATEGORY C\n",
    "    ON PC.category_id == C.category_id\n",
    "    )\n",
    "\n",
    "    Select p.*,PCN.category_id, PCN.category_name,\n",
    "    RANK() OVER(\n",
    "    PARTITION BY PCN.category_id\n",
    "    ORDER BY p.price ASC\n",
    "    ) AS price_rank\n",
    "    from PRODUCT p\n",
    "    JOIN PRODUCT_CATEGORY_NAMES PCN ON p.product_id == PCN.product_id\n",
    "\n",
    "\n",
    "\n",
    "  '''\n",
    ")"
   ]
  },
  {
   "cell_type": "code",
   "execution_count": 92,
   "id": "2c05a0d9",
   "metadata": {},
   "outputs": [
    {
     "data": {
      "text/plain": [
       "┌────────────┬──────────────┬─────────┬────────┬─────────┬─────────────┬───────────────┬────────────┐\n",
       "│ product_id │ product_name │  brand  │ price  │  unit   │ category_id │ category_name │ price_rank │\n",
       "│   int64    │   varchar    │ varchar │ double │ varchar │    int64    │    varchar    │   int64    │\n",
       "├────────────┼──────────────┼─────────┼────────┼─────────┼─────────────┼───────────────┼────────────┤\n",
       "│         61 │ Tomate       │ MarcaE  │  80.46 │ l       │           1 │ Lácteos       │          2 │\n",
       "│         47 │ Tomate       │ MarcaC  │  12.75 │ unidad  │           2 │ Panadería     │          2 │\n",
       "│         68 │ Pescado      │ MarcaE  │  25.48 │ g       │           3 │ Bebidas       │          2 │\n",
       "│         55 │ Naranja      │ MarcaC  │  23.64 │ g       │           6 │ Verduras      │          2 │\n",
       "│         45 │ Manzana      │ MarcaD  │  40.09 │ unidad  │          10 │ Dulces        │          2 │\n",
       "│         95 │ Cereal       │ MarcaE  │  10.68 │ g       │           5 │ Frutas        │          2 │\n",
       "│         26 │ Naranja      │ MarcaB  │   18.6 │ l       │           9 │ Limpieza      │          2 │\n",
       "│         31 │ Uva          │ MarcaC  │  22.56 │ unidad  │           7 │ Cereales      │          2 │\n",
       "│         88 │ Té           │ MarcaA  │  42.66 │ l       │           8 │ Enlatados     │          2 │\n",
       "│         23 │ Té           │ MarcaD  │  35.39 │ ml      │           4 │ Carnes        │          2 │\n",
       "├────────────┴──────────────┴─────────┴────────┴─────────┴─────────────┴───────────────┴────────────┤\n",
       "│ 10 rows                                                                                 8 columns │\n",
       "└───────────────────────────────────────────────────────────────────────────────────────────────────┘"
      ]
     },
     "execution_count": 92,
     "metadata": {},
     "output_type": "execute_result"
    }
   ],
   "source": [
    "db.sql(\n",
    "  '''\n",
    "    WITH PRODUCT_CATEGORY_NAMES AS\n",
    "    ( SELECT *\n",
    "    FROM PRODUCT_CATEGORY PC\n",
    "    LEFT JOIN CATEGORY C\n",
    "    ON PC.category_id == C.category_id\n",
    "    )\n",
    "\n",
    "    SELECT *\n",
    "    from (\n",
    "      Select p.*,PCN.category_id, PCN.category_name,\n",
    "      RANK() OVER(\n",
    "      PARTITION BY PCN.category_id\n",
    "      ORDER BY p.price ASC\n",
    "      ) AS price_rank\n",
    "      from PRODUCT p\n",
    "      JOIN PRODUCT_CATEGORY_NAMES PCN ON p.product_id == PCN.product_id\n",
    "\n",
    "    ) as category_ranking\n",
    "    where category_ranking.price_rank =2\n",
    "\n",
    "\n",
    "\n",
    "\n",
    "\n",
    "  '''\n",
    ")"
   ]
  }
 ],
 "metadata": {
  "kernelspec": {
   "display_name": "csar_data_sessions",
   "language": "python",
   "name": "python3"
  },
  "language_info": {
   "codemirror_mode": {
    "name": "ipython",
    "version": 3
   },
   "file_extension": ".py",
   "mimetype": "text/x-python",
   "name": "python",
   "nbconvert_exporter": "python",
   "pygments_lexer": "ipython3",
   "version": "3.12.11"
  }
 },
 "nbformat": 4,
 "nbformat_minor": 5
}
